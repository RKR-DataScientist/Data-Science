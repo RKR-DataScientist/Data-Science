{
 "cells": [
  {
   "cell_type": "code",
   "execution_count": 32,
   "metadata": {},
   "outputs": [],
   "source": [
    "import pandas as pd\n",
    "import numpy as np\n",
    "from sklearn.model_selection import train_test_split\n",
    "from sklearn.linear_model import LinearRegression\n",
    "import matplotlib.pyplot as plt"
   ]
  },
  {
   "cell_type": "code",
   "execution_count": 18,
   "metadata": {
    "scrolled": true
   },
   "outputs": [
    {
     "data": {
      "text/html": [
       "<div>\n",
       "<style scoped>\n",
       "    .dataframe tbody tr th:only-of-type {\n",
       "        vertical-align: middle;\n",
       "    }\n",
       "\n",
       "    .dataframe tbody tr th {\n",
       "        vertical-align: top;\n",
       "    }\n",
       "\n",
       "    .dataframe thead th {\n",
       "        text-align: right;\n",
       "    }\n",
       "</style>\n",
       "<table border=\"1\" class=\"dataframe\">\n",
       "  <thead>\n",
       "    <tr style=\"text-align: right;\">\n",
       "      <th></th>\n",
       "      <th>NAME</th>\n",
       "      <th>JOBTITLE</th>\n",
       "      <th>DEPTID</th>\n",
       "      <th>DESCR</th>\n",
       "      <th>HIRE_DT</th>\n",
       "      <th>ANNUAL_RT</th>\n",
       "      <th>GROSS</th>\n",
       "    </tr>\n",
       "  </thead>\n",
       "  <tbody>\n",
       "    <tr>\n",
       "      <th>0</th>\n",
       "      <td>Aaron,Patricia G</td>\n",
       "      <td>Facilities/Office Services II</td>\n",
       "      <td>A03031</td>\n",
       "      <td>OED-Employment Dev (031)</td>\n",
       "      <td>10/24/1979 12:00:00 AM</td>\n",
       "      <td>$60200.00</td>\n",
       "      <td>$58480.46</td>\n",
       "    </tr>\n",
       "    <tr>\n",
       "      <th>1</th>\n",
       "      <td>Aaron,Petra L</td>\n",
       "      <td>Assistant State's Attorney</td>\n",
       "      <td>A29045</td>\n",
       "      <td>States Attorneys Office (045)</td>\n",
       "      <td>09/25/2006 12:00:00 AM</td>\n",
       "      <td>$81200.00</td>\n",
       "      <td>$79220.72</td>\n",
       "    </tr>\n",
       "    <tr>\n",
       "      <th>2</th>\n",
       "      <td>Abadir,Adam O</td>\n",
       "      <td>Council Technician</td>\n",
       "      <td>A02002</td>\n",
       "      <td>City Council (002)</td>\n",
       "      <td>12/12/2016 12:00:00 AM</td>\n",
       "      <td>$64823.00</td>\n",
       "      <td>$57375.31</td>\n",
       "    </tr>\n",
       "    <tr>\n",
       "      <th>3</th>\n",
       "      <td>Abaku,Aigbolosimuan O</td>\n",
       "      <td>Police Officer Trainee</td>\n",
       "      <td>A99416</td>\n",
       "      <td>Police Department (416)</td>\n",
       "      <td>04/17/2018 12:00:00 AM</td>\n",
       "      <td>$50440.00</td>\n",
       "      <td>$11881.34</td>\n",
       "    </tr>\n",
       "    <tr>\n",
       "      <th>4</th>\n",
       "      <td>Abbeduto,Mack</td>\n",
       "      <td>Law Clerk SAO</td>\n",
       "      <td>A29017</td>\n",
       "      <td>States Attorneys Office (017)</td>\n",
       "      <td>05/22/2017 12:00:00 AM</td>\n",
       "      <td>$38926.00</td>\n",
       "      <td>$35138.40</td>\n",
       "    </tr>\n",
       "    <tr>\n",
       "      <th>5</th>\n",
       "      <td>Abbott,Ethan N</td>\n",
       "      <td>Recreation Arts Instructor</td>\n",
       "      <td>A67012</td>\n",
       "      <td>R&amp;P-Administration (012)</td>\n",
       "      <td>04/11/2018 12:00:00 AM</td>\n",
       "      <td>$33280.00</td>\n",
       "      <td>$4642.72</td>\n",
       "    </tr>\n",
       "    <tr>\n",
       "      <th>6</th>\n",
       "      <td>Abbott-Cole,Michelle</td>\n",
       "      <td>Operations Officer III</td>\n",
       "      <td>A90005</td>\n",
       "      <td>TRANS-Traffic (005)</td>\n",
       "      <td>11/28/2014 12:00:00 AM</td>\n",
       "      <td>$74300.00</td>\n",
       "      <td>$75011.45</td>\n",
       "    </tr>\n",
       "    <tr>\n",
       "      <th>7</th>\n",
       "      <td>Abdal-Rahim,Naim A</td>\n",
       "      <td>EMT Firefighter Suppression</td>\n",
       "      <td>A64120</td>\n",
       "      <td>Fire Department (120)</td>\n",
       "      <td>03/30/2011 12:00:00 AM</td>\n",
       "      <td>$66310.00</td>\n",
       "      <td>$79114.46</td>\n",
       "    </tr>\n",
       "    <tr>\n",
       "      <th>8</th>\n",
       "      <td>Abdi,Ezekiel W</td>\n",
       "      <td>Police Sergeant</td>\n",
       "      <td>A99160</td>\n",
       "      <td>Police Department (160)</td>\n",
       "      <td>06/14/2007 12:00:00 AM</td>\n",
       "      <td>$86902.00</td>\n",
       "      <td>$112341.17</td>\n",
       "    </tr>\n",
       "    <tr>\n",
       "      <th>9</th>\n",
       "      <td>Abdul Adl,Attrice A</td>\n",
       "      <td>Radio Dispatcher Sheriff</td>\n",
       "      <td>A38410</td>\n",
       "      <td>Sheriff's Office (410)</td>\n",
       "      <td>09/02/1999 12:00:00 AM</td>\n",
       "      <td>$48701.00</td>\n",
       "      <td>$62065.45</td>\n",
       "    </tr>\n",
       "  </tbody>\n",
       "</table>\n",
       "</div>"
      ],
      "text/plain": [
       "                    NAME                       JOBTITLE  DEPTID  \\\n",
       "0       Aaron,Patricia G  Facilities/Office Services II  A03031   \n",
       "1          Aaron,Petra L     Assistant State's Attorney  A29045   \n",
       "2          Abadir,Adam O             Council Technician  A02002   \n",
       "3  Abaku,Aigbolosimuan O         Police Officer Trainee  A99416   \n",
       "4          Abbeduto,Mack                  Law Clerk SAO  A29017   \n",
       "5         Abbott,Ethan N     Recreation Arts Instructor  A67012   \n",
       "6   Abbott-Cole,Michelle         Operations Officer III  A90005   \n",
       "7     Abdal-Rahim,Naim A    EMT Firefighter Suppression  A64120   \n",
       "8         Abdi,Ezekiel W                Police Sergeant  A99160   \n",
       "9    Abdul Adl,Attrice A       Radio Dispatcher Sheriff  A38410   \n",
       "\n",
       "                           DESCR                 HIRE_DT  ANNUAL_RT  \\\n",
       "0       OED-Employment Dev (031)  10/24/1979 12:00:00 AM  $60200.00   \n",
       "1  States Attorneys Office (045)  09/25/2006 12:00:00 AM  $81200.00   \n",
       "2             City Council (002)  12/12/2016 12:00:00 AM  $64823.00   \n",
       "3        Police Department (416)  04/17/2018 12:00:00 AM  $50440.00   \n",
       "4  States Attorneys Office (017)  05/22/2017 12:00:00 AM  $38926.00   \n",
       "5       R&P-Administration (012)  04/11/2018 12:00:00 AM  $33280.00   \n",
       "6            TRANS-Traffic (005)  11/28/2014 12:00:00 AM  $74300.00   \n",
       "7          Fire Department (120)  03/30/2011 12:00:00 AM  $66310.00   \n",
       "8        Police Department (160)  06/14/2007 12:00:00 AM  $86902.00   \n",
       "9         Sheriff's Office (410)  09/02/1999 12:00:00 AM  $48701.00   \n",
       "\n",
       "        GROSS  \n",
       "0   $58480.46  \n",
       "1   $79220.72  \n",
       "2   $57375.31  \n",
       "3   $11881.34  \n",
       "4   $35138.40  \n",
       "5    $4642.72  \n",
       "6   $75011.45  \n",
       "7   $79114.46  \n",
       "8  $112341.17  \n",
       "9   $62065.45  "
      ]
     },
     "execution_count": 18,
     "metadata": {},
     "output_type": "execute_result"
    }
   ],
   "source": [
    "url = \"B:\\DATA_SCIENCE\\Data_Science_IBM_Material\\MACHINE_LEARNING_TUTORIAL\\SELF_DONE_ALGORITHM\\salary_data.csv\"\n",
    "data = pd.read_csv(url)\n",
    "data.head(10)"
   ]
  },
  {
   "cell_type": "code",
   "execution_count": 24,
   "metadata": {},
   "outputs": [
    {
     "name": "stdout",
     "output_type": "stream",
     "text": [
      "File has created in the folder\n"
     ]
    }
   ],
   "source": [
    "data_dict = {\"YearExperience\" :[1.1, 1.3, 1.5, 2.0, 2.2, 2.9 , 3.0 , 3.2, 3.2, 3.7], \n",
    "             \"salary\": [39343, 46205, 37731, 43525,39891, 56642, 60150, 54445, 64445, 57189]}\n",
    "\n",
    "da = pd.DataFrame(data_dict)\n",
    "da.to_csv(r'B:\\DATA_SCIENCE\\Data_Science_IBM_Material\\MACHINE_LEARNING_TUTORIAL\\SELF_DONE_ALGORITHM\\salary2.csv', index = False)\n",
    "print(\"File has created in the folder\")"
   ]
  },
  {
   "cell_type": "code",
   "execution_count": 25,
   "metadata": {},
   "outputs": [
    {
     "data": {
      "text/html": [
       "<div>\n",
       "<style scoped>\n",
       "    .dataframe tbody tr th:only-of-type {\n",
       "        vertical-align: middle;\n",
       "    }\n",
       "\n",
       "    .dataframe tbody tr th {\n",
       "        vertical-align: top;\n",
       "    }\n",
       "\n",
       "    .dataframe thead th {\n",
       "        text-align: right;\n",
       "    }\n",
       "</style>\n",
       "<table border=\"1\" class=\"dataframe\">\n",
       "  <thead>\n",
       "    <tr style=\"text-align: right;\">\n",
       "      <th></th>\n",
       "      <th>YearExperience</th>\n",
       "      <th>salary</th>\n",
       "    </tr>\n",
       "  </thead>\n",
       "  <tbody>\n",
       "    <tr>\n",
       "      <th>0</th>\n",
       "      <td>1.1</td>\n",
       "      <td>39343</td>\n",
       "    </tr>\n",
       "    <tr>\n",
       "      <th>1</th>\n",
       "      <td>1.3</td>\n",
       "      <td>46205</td>\n",
       "    </tr>\n",
       "    <tr>\n",
       "      <th>2</th>\n",
       "      <td>1.5</td>\n",
       "      <td>37731</td>\n",
       "    </tr>\n",
       "    <tr>\n",
       "      <th>3</th>\n",
       "      <td>2.0</td>\n",
       "      <td>43525</td>\n",
       "    </tr>\n",
       "    <tr>\n",
       "      <th>4</th>\n",
       "      <td>2.2</td>\n",
       "      <td>39891</td>\n",
       "    </tr>\n",
       "    <tr>\n",
       "      <th>5</th>\n",
       "      <td>2.9</td>\n",
       "      <td>56642</td>\n",
       "    </tr>\n",
       "    <tr>\n",
       "      <th>6</th>\n",
       "      <td>3.0</td>\n",
       "      <td>60150</td>\n",
       "    </tr>\n",
       "    <tr>\n",
       "      <th>7</th>\n",
       "      <td>3.2</td>\n",
       "      <td>54445</td>\n",
       "    </tr>\n",
       "    <tr>\n",
       "      <th>8</th>\n",
       "      <td>3.2</td>\n",
       "      <td>64445</td>\n",
       "    </tr>\n",
       "    <tr>\n",
       "      <th>9</th>\n",
       "      <td>3.7</td>\n",
       "      <td>57189</td>\n",
       "    </tr>\n",
       "  </tbody>\n",
       "</table>\n",
       "</div>"
      ],
      "text/plain": [
       "   YearExperience  salary\n",
       "0             1.1   39343\n",
       "1             1.3   46205\n",
       "2             1.5   37731\n",
       "3             2.0   43525\n",
       "4             2.2   39891\n",
       "5             2.9   56642\n",
       "6             3.0   60150\n",
       "7             3.2   54445\n",
       "8             3.2   64445\n",
       "9             3.7   57189"
      ]
     },
     "execution_count": 25,
     "metadata": {},
     "output_type": "execute_result"
    }
   ],
   "source": [
    "url = \"B:\\DATA_SCIENCE\\Data_Science_IBM_Material\\MACHINE_LEARNING_TUTORIAL\\SELF_DONE_ALGORITHM\\salary2.csv\"\n",
    "data = pd.read_csv(url)\n",
    "data.head(10)"
   ]
  },
  {
   "cell_type": "code",
   "execution_count": 40,
   "metadata": {},
   "outputs": [],
   "source": [
    "# allocate the data into indipedent variable and depedent variable\n",
    "real_x = data.iloc[:, 0].values\n",
    "real_y = data.iloc[:,1].values\n",
    "real_x = real_x.reshape(-1,1)\n",
    "real_y = real_y.reshape(-1,1)"
   ]
  },
  {
   "cell_type": "code",
   "execution_count": 45,
   "metadata": {},
   "outputs": [
    {
     "data": {
      "text/plain": [
       "array([[3.7],\n",
       "       [1.3],\n",
       "       [3. ],\n",
       "       [3.2],\n",
       "       [2. ],\n",
       "       [1.1],\n",
       "       [2.9]])"
      ]
     },
     "execution_count": 45,
     "metadata": {},
     "output_type": "execute_result"
    }
   ],
   "source": [
    "# split the data into train and test model\n",
    "x_train, x_test, y_train, y_test = train_test_split(real_x, real_y, test_size = 0.25, random_state=0)\n",
    "x_train\n"
   ]
  },
  {
   "cell_type": "code",
   "execution_count": 46,
   "metadata": {},
   "outputs": [
    {
     "data": {
      "text/plain": [
       "LinearRegression(copy_X=True, fit_intercept=True, n_jobs=None, normalize=False)"
      ]
     },
     "execution_count": 46,
     "metadata": {},
     "output_type": "execute_result"
    }
   ],
   "source": [
    "# now will train the data\n",
    "LR = LinearRegression()\n",
    "LR.fit(x_train, y_train)\n"
   ]
  },
  {
   "cell_type": "code",
   "execution_count": 47,
   "metadata": {},
   "outputs": [],
   "source": [
    "pred_y = LR.predict(x_test)"
   ]
  },
  {
   "cell_type": "code",
   "execution_count": 54,
   "metadata": {},
   "outputs": [
    {
     "ename": "IndexError",
     "evalue": "list index out of range",
     "output_type": "error",
     "traceback": [
      "\u001b[1;31m---------------------------------------------------------------------------\u001b[0m",
      "\u001b[1;31mIndexError\u001b[0m                                Traceback (most recent call last)",
      "\u001b[1;32m<ipython-input-54-1dccf65048cd>\u001b[0m in \u001b[0;36m<module>\u001b[1;34m\u001b[0m\n\u001b[1;32m----> 1\u001b[1;33m \u001b[0mpred_y\u001b[0m\u001b[1;33m[\u001b[0m\u001b[1;36m3\u001b[0m\u001b[1;33m]\u001b[0m\u001b[1;33m\u001b[0m\u001b[1;33m\u001b[0m\u001b[0m\n\u001b[0m",
      "\u001b[1;31mIndexError\u001b[0m: list index out of range"
     ]
    }
   ],
   "source": [
    "pred_y[3]"
   ]
  },
  {
   "cell_type": "code",
   "execution_count": null,
   "metadata": {},
   "outputs": [],
   "source": []
  }
 ],
 "metadata": {
  "kernelspec": {
   "display_name": "Python 3",
   "language": "python",
   "name": "python3"
  },
  "language_info": {
   "codemirror_mode": {
    "name": "ipython",
    "version": 3
   },
   "file_extension": ".py",
   "mimetype": "text/x-python",
   "name": "python",
   "nbconvert_exporter": "python",
   "pygments_lexer": "ipython3",
   "version": "3.7.4"
  }
 },
 "nbformat": 4,
 "nbformat_minor": 4
}
